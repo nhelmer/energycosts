{
 "cells": [
  {
   "cell_type": "markdown",
   "metadata": {},
   "source": [
    "# The Problem We are Trying to Solve"
   ]
  },
  {
   "cell_type": "markdown",
   "metadata": {},
   "source": [
    "You have a building connected to a bad electricity grid, and as a result, it uses a diesel generator when the power goes out. I want to compare the economics of that scenario (electricity price + cost of running diesel) against the economics of a scenario where that building uses a combination of solar, storage, and diesel.\n",
    "\n",
    "So the model would account for the following:\n",
    "\n",
    "Meet building electricity consumption with the optimal combination of\n",
    "\n",
    " * Direct solar energy production\n",
    " * Electricity from the grid\n",
    " * Electricity in battery (from solar or grid)\n",
    "\n",
    "OR\n",
    " * Diesel generator"
   ]
  },
  {
   "cell_type": "markdown",
   "metadata": {},
   "source": [
    "# Get the Data Set up"
   ]
  },
  {
   "cell_type": "markdown",
   "metadata": {},
   "source": [
    "The datasets are in hourly or 15 minute intervals across a 1 year time horizon. \n",
    "In this scenario generation from #1 and #2 are intermittent but known. \n",
    "Each source of electricity has a different cost based on how often it is used or (with electricity) the time of day."
   ]
  },
  {
   "cell_type": "code",
   "execution_count": 1,
   "metadata": {
    "collapsed": true
   },
   "outputs": [],
   "source": [
    "#import pandas a very helpful library for working with datasets, call it pd because that's easier to type than pandas\n",
    "import pandas as pd\n",
    "\n",
    "#numpy allows all sort of numeric functions; we're going to use it only as a random number generator\n",
    "import numpy as np"
   ]
  },
  {
   "cell_type": "code",
   "execution_count": 2,
   "metadata": {},
   "outputs": [
    {
     "data": {
      "text/html": [
       "<div>\n",
       "<style>\n",
       "    .dataframe thead tr:only-child th {\n",
       "        text-align: right;\n",
       "    }\n",
       "\n",
       "    .dataframe thead th {\n",
       "        text-align: left;\n",
       "    }\n",
       "\n",
       "    .dataframe tbody tr th {\n",
       "        vertical-align: top;\n",
       "    }\n",
       "</style>\n",
       "<table border=\"1\" class=\"dataframe\">\n",
       "  <thead>\n",
       "    <tr style=\"text-align: right;\">\n",
       "      <th></th>\n",
       "      <th>Timestamp</th>\n",
       "      <th>Building 74 - kWh Total Electricity (kWh)</th>\n",
       "    </tr>\n",
       "  </thead>\n",
       "  <tbody>\n",
       "    <tr>\n",
       "      <th>0</th>\n",
       "      <td>2014-01-01 00:30:00</td>\n",
       "      <td>22.8125</td>\n",
       "    </tr>\n",
       "    <tr>\n",
       "      <th>1</th>\n",
       "      <td>2014-01-01 00:45:00</td>\n",
       "      <td>24.6650</td>\n",
       "    </tr>\n",
       "    <tr>\n",
       "      <th>2</th>\n",
       "      <td>2014-01-01 01:00:00</td>\n",
       "      <td>24.1725</td>\n",
       "    </tr>\n",
       "    <tr>\n",
       "      <th>3</th>\n",
       "      <td>2014-01-01 01:15:00</td>\n",
       "      <td>24.9500</td>\n",
       "    </tr>\n",
       "    <tr>\n",
       "      <th>4</th>\n",
       "      <td>2014-01-01 01:30:00</td>\n",
       "      <td>23.6175</td>\n",
       "    </tr>\n",
       "  </tbody>\n",
       "</table>\n",
       "</div>"
      ],
      "text/plain": [
       "            Timestamp  Building 74 - kWh Total Electricity (kWh)\n",
       "0 2014-01-01 00:30:00                                    22.8125\n",
       "1 2014-01-01 00:45:00                                    24.6650\n",
       "2 2014-01-01 01:00:00                                    24.1725\n",
       "3 2014-01-01 01:15:00                                    24.9500\n",
       "4 2014-01-01 01:30:00                                    23.6175"
      ]
     },
     "execution_count": 2,
     "metadata": {},
     "output_type": "execute_result"
    }
   ],
   "source": [
    "#read in the file with the energy use data set. Pandas has a nice function for reading excel, csvs, sql, etc. \n",
    "energy_needs = pd.read_excel(('https://openei.org/datasets/dataset/399852d9-91a3-4dd7-86ba-73dd5388c994/'\n",
    "                              'resource/c0608a74-1ef8-4583-a4cd-33f0c78e8478/download/lbnlb74electricity.xlsx'))\n",
    "\n",
    "#the .head() function allows us to look at the top 5 rows of the dataset\n",
    "energy_needs.head()"
   ]
  },
  {
   "cell_type": "code",
   "execution_count": 3,
   "metadata": {
    "collapsed": true
   },
   "outputs": [],
   "source": [
    "#rename this column because it's long and would be annoying to keep typing\n",
    "energy_needs.rename(columns={'Building 74 - kWh Total Electricity (kWh)':'kWh'}, inplace=True)"
   ]
  },
  {
   "cell_type": "markdown",
   "metadata": {},
   "source": [
    "#### Since the values we want to work with are mostly in terms of hours let's group by hours \n"
   ]
  },
  {
   "cell_type": "code",
   "execution_count": 4,
   "metadata": {},
   "outputs": [
    {
     "data": {
      "text/html": [
       "<div>\n",
       "<style>\n",
       "    .dataframe thead tr:only-child th {\n",
       "        text-align: right;\n",
       "    }\n",
       "\n",
       "    .dataframe thead th {\n",
       "        text-align: left;\n",
       "    }\n",
       "\n",
       "    .dataframe tbody tr th {\n",
       "        vertical-align: top;\n",
       "    }\n",
       "</style>\n",
       "<table border=\"1\" class=\"dataframe\">\n",
       "  <thead>\n",
       "    <tr style=\"text-align: right;\">\n",
       "      <th></th>\n",
       "      <th>timestamp_hour</th>\n",
       "      <th>kWh</th>\n",
       "    </tr>\n",
       "  </thead>\n",
       "  <tbody>\n",
       "    <tr>\n",
       "      <th>0</th>\n",
       "      <td>2014-01-01 00:00:00</td>\n",
       "      <td>47.4775</td>\n",
       "    </tr>\n",
       "    <tr>\n",
       "      <th>1</th>\n",
       "      <td>2014-01-01 01:00:00</td>\n",
       "      <td>96.4825</td>\n",
       "    </tr>\n",
       "    <tr>\n",
       "      <th>2</th>\n",
       "      <td>2014-01-01 02:00:00</td>\n",
       "      <td>97.1350</td>\n",
       "    </tr>\n",
       "    <tr>\n",
       "      <th>3</th>\n",
       "      <td>2014-01-01 03:00:00</td>\n",
       "      <td>95.8700</td>\n",
       "    </tr>\n",
       "    <tr>\n",
       "      <th>4</th>\n",
       "      <td>2014-01-01 04:00:00</td>\n",
       "      <td>95.5325</td>\n",
       "    </tr>\n",
       "  </tbody>\n",
       "</table>\n",
       "</div>"
      ],
      "text/plain": [
       "       timestamp_hour      kWh\n",
       "0 2014-01-01 00:00:00  47.4775\n",
       "1 2014-01-01 01:00:00  96.4825\n",
       "2 2014-01-01 02:00:00  97.1350\n",
       "3 2014-01-01 03:00:00  95.8700\n",
       "4 2014-01-01 04:00:00  95.5325"
      ]
     },
     "execution_count": 4,
     "metadata": {},
     "output_type": "execute_result"
    }
   ],
   "source": [
    "#first we're going to create a new timestamp with just hours instead of 15 min increments\n",
    "energy_needs['timestamp_hour'] = energy_needs['Timestamp'].apply(\n",
    "    lambda x: pd.Timestamp(year=x.year,month=x.month,day=x.day,hour=x.hour))\n",
    "\n",
    "\n",
    "#now, using functionality like an excel pivot table, we will sum the kwH by the hour using the new timestamp\n",
    "#to work with this new dataset we will give it a new name: energy\n",
    "\n",
    "energy = energy_needs.pivot_table(index=['timestamp_hour'], \n",
    "                         values='kWh', aggfunc='sum').reset_index()\n",
    "\n",
    "energy.head()"
   ]
  },
  {
   "cell_type": "markdown",
   "metadata": {},
   "source": [
    "### Now, let's indicate when the grid is down and the building would have to switch to an alternate power source"
   ]
  },
  {
   "cell_type": "code",
   "execution_count": 5,
   "metadata": {},
   "outputs": [
    {
     "data": {
      "text/html": [
       "<div>\n",
       "<style>\n",
       "    .dataframe thead tr:only-child th {\n",
       "        text-align: right;\n",
       "    }\n",
       "\n",
       "    .dataframe thead th {\n",
       "        text-align: left;\n",
       "    }\n",
       "\n",
       "    .dataframe tbody tr th {\n",
       "        vertical-align: top;\n",
       "    }\n",
       "</style>\n",
       "<table border=\"1\" class=\"dataframe\">\n",
       "  <thead>\n",
       "    <tr style=\"text-align: right;\">\n",
       "      <th></th>\n",
       "      <th>kWh</th>\n",
       "    </tr>\n",
       "  </thead>\n",
       "  <tbody>\n",
       "    <tr>\n",
       "      <th>0</th>\n",
       "      <td>336.9650</td>\n",
       "    </tr>\n",
       "    <tr>\n",
       "      <th>1</th>\n",
       "      <td>408.2125</td>\n",
       "    </tr>\n",
       "    <tr>\n",
       "      <th>2</th>\n",
       "      <td>398.8675</td>\n",
       "    </tr>\n",
       "    <tr>\n",
       "      <th>3</th>\n",
       "      <td>394.5475</td>\n",
       "    </tr>\n",
       "    <tr>\n",
       "      <th>4</th>\n",
       "      <td>395.5950</td>\n",
       "    </tr>\n",
       "  </tbody>\n",
       "</table>\n",
       "</div>"
      ],
      "text/plain": [
       "        kWh\n",
       "0  336.9650\n",
       "1  408.2125\n",
       "2  398.8675\n",
       "3  394.5475\n",
       "4  395.5950"
      ]
     },
     "execution_count": 5,
     "metadata": {},
     "output_type": "execute_result"
    }
   ],
   "source": [
    "# We want to be able to set the hours the grid is down for at a time \n",
    "# and number of days per week that the grid is down\n",
    "\n",
    "hoursdown = 4\n",
    "\n",
    "#this groups and sums the kWh by the number of hours specified\n",
    "energy_grouped = energy.groupby(energy.index / hoursdown).sum() \n",
    "energy_grouped.head()"
   ]
  },
  {
   "cell_type": "code",
   "execution_count": 6,
   "metadata": {
    "collapsed": true
   },
   "outputs": [],
   "source": [
    "# we are adding a column to the dataframe with a random number so we can randomly assign times the grid is down\n",
    "energy_grouped['grid_down_probability'] = energy_grouped['kWh'].apply(lambda x: np.random.random())"
   ]
  },
  {
   "cell_type": "code",
   "execution_count": 7,
   "metadata": {},
   "outputs": [
    {
     "name": "stdout",
     "output_type": "stream",
     "text": [
      "0.0714285714286\n"
     ]
    },
    {
     "data": {
      "text/html": [
       "<div>\n",
       "<style>\n",
       "    .dataframe thead tr:only-child th {\n",
       "        text-align: right;\n",
       "    }\n",
       "\n",
       "    .dataframe thead th {\n",
       "        text-align: left;\n",
       "    }\n",
       "\n",
       "    .dataframe tbody tr th {\n",
       "        vertical-align: top;\n",
       "    }\n",
       "</style>\n",
       "<table border=\"1\" class=\"dataframe\">\n",
       "  <thead>\n",
       "    <tr style=\"text-align: right;\">\n",
       "      <th></th>\n",
       "      <th>kWh</th>\n",
       "      <th>grid_down</th>\n",
       "    </tr>\n",
       "  </thead>\n",
       "  <tbody>\n",
       "    <tr>\n",
       "      <th>0</th>\n",
       "      <td>336.9650</td>\n",
       "      <td>0</td>\n",
       "    </tr>\n",
       "    <tr>\n",
       "      <th>1</th>\n",
       "      <td>408.2125</td>\n",
       "      <td>0</td>\n",
       "    </tr>\n",
       "    <tr>\n",
       "      <th>2</th>\n",
       "      <td>398.8675</td>\n",
       "      <td>0</td>\n",
       "    </tr>\n",
       "    <tr>\n",
       "      <th>3</th>\n",
       "      <td>394.5475</td>\n",
       "      <td>0</td>\n",
       "    </tr>\n",
       "    <tr>\n",
       "      <th>4</th>\n",
       "      <td>395.5950</td>\n",
       "      <td>0</td>\n",
       "    </tr>\n",
       "  </tbody>\n",
       "</table>\n",
       "</div>"
      ],
      "text/plain": [
       "        kWh  grid_down\n",
       "0  336.9650          0\n",
       "1  408.2125          0\n",
       "2  398.8675          0\n",
       "3  394.5475          0\n",
       "4  395.5950          0"
      ]
     },
     "execution_count": 7,
     "metadata": {},
     "output_type": "execute_result"
    }
   ],
   "source": [
    "days_per_week_grid_down = 3\n",
    "\n",
    "# number of times it goes down out of the total number of hour chunks in a week\n",
    "\n",
    "percent_downtime = days_per_week_grid_down / (7.0*24/hoursdown) #note you need a float in the equation to make this work\n",
    "print percent_downtime\n",
    "\n",
    "def grid_is_down(rand_num):\n",
    "    # we will use a 0 to indicate that the grid is working and a 1 to indicate the grid is down\n",
    "    if rand_num < percent_downtime:\n",
    "        return 1\n",
    "    else:\n",
    "        return 0\n",
    "\n",
    "energy_grouped['grid_down'] = energy_grouped['grid_down_probability'].apply(grid_is_down)\n",
    "\n",
    "#we don't need the proability column anymore so we delete it to keep things clean looking\n",
    "del energy_grouped['grid_down_probability']\n",
    "\n",
    "energy_grouped.head()"
   ]
  },
  {
   "cell_type": "markdown",
   "metadata": {},
   "source": [
    "## Set up the Various Cost Inputs (with minimal complexity to start)"
   ]
  },
  {
   "cell_type": "markdown",
   "metadata": {},
   "source": [
    "There are a few measures of cost that could be used, but the customer basically has three options to compare: \n",
    "\n",
    "1. Buy the equipment,\n",
    "2. Lease the equipment, \n",
    "3. Purchase the energy produced. \n",
    "\n",
    "Each item has a capex cost and an opex cost. \n",
    "* Diesel the capex is the equipment and the opex is fuel and maintenance\n",
    "* Solar the capex is the initial purchase price dollars per kW installed price and the opex is just maintenance also dollars kW\n",
    "* Storage the opex is fuel (electricity from the grid) and maintenance. \n",
    "\n",
    "I think the best framing on the cost comparison is to assess the levelized cost of energy (kWh) for each (diesel vs. package), which is all the costs divided by the energy produced, considering some cost of capital.\n",
    "\n",
    "\n"
   ]
  },
  {
   "cell_type": "code",
   "execution_count": 8,
   "metadata": {
    "collapsed": true
   },
   "outputs": [],
   "source": [
    "# Diesel Variables\n",
    "\n",
    "# annualized over 10 years, 20% rate\n",
    "diesel_capex = float(100000)\n",
    "payback_years = 10\n",
    "interest_rate = 0.20\n",
    "\n",
    "# you can let formulas run over several lines if you enclose them in parans\n",
    "diesel_annual_payment = (diesel_capex * \n",
    "                         (interest_rate * (1 + interest_rate) ** payback_years) /\n",
    "                         ((1 + interest_rate) ** payback_years - 1))\n",
    "\n",
    "\n",
    "diesel_lifetime_hrs = 36000\n",
    "cost_of_gas = 3.5\n",
    "gallons_per_hour = 18\n",
    "diesel_om_kwh = 0.02\n",
    "\n",
    "annual_cost_increase_rate = 0.03"
   ]
  },
  {
   "cell_type": "code",
   "execution_count": 10,
   "metadata": {},
   "outputs": [],
   "source": [
    "# Storage Variables\n",
    "\n",
    "storage_kwh = 1000 \n",
    "storage_lifetime_kwh = 2700*storage_kwh\n",
    "\n",
    "# annualized over 10 years, 20% rate\n",
    "storage_capex = float(350*storage_kwh)\n",
    "payback_years = 10\n",
    "interest_rate = 0.20\n",
    "\n",
    "# you can let formulas run over several lines if you enclose them in parans\n",
    "storage_annual_payment = (storage_capex * \n",
    "                         (interest_rate * (1 + interest_rate) ** payback_years) /\n",
    "                         ((1 + interest_rate) ** payback_years - 1))\n",
    "\n",
    "storage_electricity_rate = 0.06*0.89 # not sure why this is multiplied by 0.89?"
   ]
  },
  {
   "cell_type": "markdown",
   "metadata": {},
   "source": [
    "## Calculating Total Costs"
   ]
  },
  {
   "cell_type": "code",
   "execution_count": 11,
   "metadata": {},
   "outputs": [
    {
     "name": "stdout",
     "output_type": "stream",
     "text": [
      "Total Grid Down kWh needed 116625.22\n"
     ]
    }
   ],
   "source": [
    "# Cacluate how many kWh the grid is down vs how many the grid is up:\n",
    "kwh_grid_down = (energy_grouped['grid_down']*energy_grouped['kWh']).sum()\n",
    "print 'Total Grid Down kWh needed %.2f' %kwh_grid_down"
   ]
  },
  {
   "cell_type": "code",
   "execution_count": 12,
   "metadata": {},
   "outputs": [
    {
     "name": "stdout",
     "output_type": "stream",
     "text": [
      "Total Annual Cost 85152.78\n"
     ]
    }
   ],
   "source": [
    "#Function for the diesel scenario:\n",
    "\n",
    "diesel_total_cost = (diesel_annual_payment + #lease costs\n",
    "                     kwh_grid_down*diesel_om_kwh + #operations and maintenance\n",
    "                     energy_grouped['grid_down'].sum()*hoursdown*gallons_per_hour*cost_of_gas) #fuel\n",
    "\n",
    "print 'Total Annual Diesel Cost %.2f' %diesel_total_cost"
   ]
  },
  {
   "cell_type": "code",
   "execution_count": 17,
   "metadata": {},
   "outputs": [
    {
     "name": "stdout",
     "output_type": "stream",
     "text": [
      "Total Annual Cost 89710.75\n"
     ]
    }
   ],
   "source": [
    "#Function for the storage scenario:\n",
    "\n",
    "storage_total_cost = (storage_annual_payment + #lease costs\n",
    "                     kwh_grid_down*storage_electricity_rate)\n",
    "\n",
    "print 'Total Annual Storage Cost %.2f' %storage_total_cost"
   ]
  },
  {
   "cell_type": "markdown",
   "metadata": {},
   "source": [
    "# Year 1 Energy Costs"
   ]
  },
  {
   "cell_type": "code",
   "execution_count": 20,
   "metadata": {
    "collapsed": true
   },
   "outputs": [],
   "source": [
    "from scipy import optimize"
   ]
  },
  {
   "cell_type": "code",
   "execution_count": 21,
   "metadata": {
    "collapsed": true
   },
   "outputs": [],
   "source": [
    "#variables we control:\n",
    "\n",
    "hours = range(1,9) # a range of 1 hour down to 8 hours down\n",
    "daysdown = range (1,8) # a range of days this happens from 1 to 7\n",
    "costpergal = [2.0, 2.5, 3.0, 3.5, 4.0, 4.5, 5.0] #range of gas prices from $2/gal to $5/gal\n",
    "leaserate = [0.15, 0.175, 0.20, 0.225, 0.25] #range of lease rates from 15% to 25%"
   ]
  },
  {
   "cell_type": "code",
   "execution_count": 22,
   "metadata": {},
   "outputs": [
    {
     "data": {
      "text/html": [
       "<div>\n",
       "<style>\n",
       "    .dataframe thead tr:only-child th {\n",
       "        text-align: right;\n",
       "    }\n",
       "\n",
       "    .dataframe thead th {\n",
       "        text-align: left;\n",
       "    }\n",
       "\n",
       "    .dataframe tbody tr th {\n",
       "        vertical-align: top;\n",
       "    }\n",
       "</style>\n",
       "<table border=\"1\" class=\"dataframe\">\n",
       "  <thead>\n",
       "    <tr style=\"text-align: right;\">\n",
       "      <th></th>\n",
       "      <th>hoursdown</th>\n",
       "      <th>daysdown</th>\n",
       "      <th>costpergal</th>\n",
       "      <th>leaserate</th>\n",
       "    </tr>\n",
       "  </thead>\n",
       "  <tbody>\n",
       "    <tr>\n",
       "      <th>0</th>\n",
       "      <td>1</td>\n",
       "      <td>1</td>\n",
       "      <td>2.0</td>\n",
       "      <td>0.150</td>\n",
       "    </tr>\n",
       "    <tr>\n",
       "      <th>1</th>\n",
       "      <td>1</td>\n",
       "      <td>1</td>\n",
       "      <td>2.0</td>\n",
       "      <td>0.175</td>\n",
       "    </tr>\n",
       "    <tr>\n",
       "      <th>2</th>\n",
       "      <td>1</td>\n",
       "      <td>1</td>\n",
       "      <td>2.0</td>\n",
       "      <td>0.200</td>\n",
       "    </tr>\n",
       "    <tr>\n",
       "      <th>3</th>\n",
       "      <td>1</td>\n",
       "      <td>1</td>\n",
       "      <td>2.0</td>\n",
       "      <td>0.225</td>\n",
       "    </tr>\n",
       "    <tr>\n",
       "      <th>4</th>\n",
       "      <td>1</td>\n",
       "      <td>1</td>\n",
       "      <td>2.0</td>\n",
       "      <td>0.250</td>\n",
       "    </tr>\n",
       "  </tbody>\n",
       "</table>\n",
       "</div>"
      ],
      "text/plain": [
       "   hoursdown  daysdown  costpergal  leaserate\n",
       "0          1         1         2.0      0.150\n",
       "1          1         1         2.0      0.175\n",
       "2          1         1         2.0      0.200\n",
       "3          1         1         2.0      0.225\n",
       "4          1         1         2.0      0.250"
      ]
     },
     "execution_count": 22,
     "metadata": {},
     "output_type": "execute_result"
    }
   ],
   "source": [
    "# this creates a dataframe of all possible combinations of the variables above:\n",
    "\n",
    "from itertools import product\n",
    "costs_df = pd.DataFrame(list(product(hours, daysdown, costpergal,leaserate)), \n",
    "                     columns=['hoursdown', 'daysdown','costpergal','leaserate'])\n",
    "costs_df.head()"
   ]
  },
  {
   "cell_type": "code",
   "execution_count": 27,
   "metadata": {},
   "outputs": [],
   "source": [
    "diesel = []\n",
    "storage = []\n",
    "\n",
    "# now, for everyone of those combinations of hours down, days down, costsper gallon etc \n",
    "# we will calculate the energy cost for diesel and the energy cost for storage\n",
    "\n",
    "for index, row in costs_df.iterrows():\n",
    "    \n",
    "    #these are the functions we ran above, but now doing them in a more structured fashion\n",
    "    df = energy.groupby(energy.index / row['hoursdown']).sum() \n",
    "    df['grid_down_probability'] = df['kWh'].apply(lambda x: np.random.random())\n",
    "    percent_downtime = row['daysdown'] / (7.0*24/row['hoursdown']) \n",
    "    df['grid_down'] = df['grid_down_probability'].apply(grid_is_down)\n",
    "    kwh_grid_down = (df['grid_down']*df['kWh']).sum() #this gives us the total kWh that the grid is down\n",
    "\n",
    "    \n",
    "    #these calculate the diesel cost in this scenario for every row in the dataframe and appends to a list\n",
    "    diesel_total_cost = (diesel_annual_payment + #lease costs\n",
    "                     kwh_grid_down*diesel_om_kwh + #operations and maintenance\n",
    "                     df['grid_down'].sum()*hoursdown*gallons_per_hour*row['costpergal']) #fuel\n",
    "    diesel.append(diesel_total_cost)\n",
    "        \n",
    "    #now the storage costs   \n",
    "    storage_total_cost = (storage_annual_payment + kwh_grid_down*storage_electricity_rate)\n",
    "    storage.append(storage_total_cost)\n",
    "    \n",
    "costs_df['dieselcost'] = diesel\n",
    "costs_df['storagecost'] = storage"
   ]
  },
  {
   "cell_type": "code",
   "execution_count": 28,
   "metadata": {},
   "outputs": [
    {
     "data": {
      "text/html": [
       "<div>\n",
       "<style>\n",
       "    .dataframe thead tr:only-child th {\n",
       "        text-align: right;\n",
       "    }\n",
       "\n",
       "    .dataframe thead th {\n",
       "        text-align: left;\n",
       "    }\n",
       "\n",
       "    .dataframe tbody tr th {\n",
       "        vertical-align: top;\n",
       "    }\n",
       "</style>\n",
       "<table border=\"1\" class=\"dataframe\">\n",
       "  <thead>\n",
       "    <tr style=\"text-align: right;\">\n",
       "      <th></th>\n",
       "      <th>hoursdown</th>\n",
       "      <th>daysdown</th>\n",
       "      <th>costpergal</th>\n",
       "      <th>leaserate</th>\n",
       "      <th>dieselcost</th>\n",
       "      <th>storagecost</th>\n",
       "    </tr>\n",
       "  </thead>\n",
       "  <tbody>\n",
       "    <tr>\n",
       "      <th>0</th>\n",
       "      <td>1</td>\n",
       "      <td>1</td>\n",
       "      <td>2.0</td>\n",
       "      <td>0.150</td>\n",
       "      <td>33963.268721</td>\n",
       "      <td>83950.196306</td>\n",
       "    </tr>\n",
       "    <tr>\n",
       "      <th>1</th>\n",
       "      <td>1</td>\n",
       "      <td>1</td>\n",
       "      <td>2.0</td>\n",
       "      <td>0.175</td>\n",
       "      <td>35721.373014</td>\n",
       "      <td>84030.574770</td>\n",
       "    </tr>\n",
       "    <tr>\n",
       "      <th>2</th>\n",
       "      <td>1</td>\n",
       "      <td>1</td>\n",
       "      <td>2.0</td>\n",
       "      <td>0.200</td>\n",
       "      <td>31464.512570</td>\n",
       "      <td>83814.677384</td>\n",
       "    </tr>\n",
       "    <tr>\n",
       "      <th>3</th>\n",
       "      <td>1</td>\n",
       "      <td>1</td>\n",
       "      <td>2.0</td>\n",
       "      <td>0.225</td>\n",
       "      <td>32788.575181</td>\n",
       "      <td>83889.604555</td>\n",
       "    </tr>\n",
       "    <tr>\n",
       "      <th>4</th>\n",
       "      <td>1</td>\n",
       "      <td>1</td>\n",
       "      <td>2.0</td>\n",
       "      <td>0.250</td>\n",
       "      <td>33225.783424</td>\n",
       "      <td>83903.510563</td>\n",
       "    </tr>\n",
       "  </tbody>\n",
       "</table>\n",
       "</div>"
      ],
      "text/plain": [
       "   hoursdown  daysdown  costpergal  leaserate    dieselcost   storagecost\n",
       "0          1         1         2.0      0.150  33963.268721  83950.196306\n",
       "1          1         1         2.0      0.175  35721.373014  84030.574770\n",
       "2          1         1         2.0      0.200  31464.512570  83814.677384\n",
       "3          1         1         2.0      0.225  32788.575181  83889.604555\n",
       "4          1         1         2.0      0.250  33225.783424  83903.510563"
      ]
     },
     "execution_count": 28,
     "metadata": {},
     "output_type": "execute_result"
    }
   ],
   "source": [
    "costs_df.head()"
   ]
  },
  {
   "cell_type": "code",
   "execution_count": 29,
   "metadata": {},
   "outputs": [
    {
     "data": {
      "image/png": "[encoded data removed]",
      "text/plain": [
       "<matplotlib.figure.Figure at 0x11ac055d0>"
      ]
     },
     "metadata": {},
     "output_type": "display_data"
    },
    {
     "data": {
      "text/plain": [
       "<matplotlib.figure.Figure at 0x11af7ef90>"
      ]
     },
     "metadata": {},
     "output_type": "display_data"
    }
   ],
   "source": [
    "#we'll graph the differences in costs - though in most scenarios we are seeing the diesel cost rise so much\n",
    "# that it is hard to see the increments in the storage cost\n",
    "\n",
    "import matplotlib.pyplot as plt\n",
    "%matplotlib inline\n",
    "\n",
    "plt.plot(costs_df['storagecost'], color='b', label='Diesel') #b for blue\n",
    "plt.plot(costs_df['dieselcost'], color='r', label='Storage') #r for red\n",
    "plt.ylabel('cost')\n",
    "fig = plt.figure()\n",
    "fig.set_figheight(5)\n",
    "fig.set_figwidth(15)\n",
    "\n",
    "plt.show()"
   ]
  },
  {
   "cell_type": "code",
   "execution_count": null,
   "metadata": {
    "collapsed": true
   },
   "outputs": [],
   "source": []
  },
  {
   "cell_type": "markdown",
   "metadata": {},
   "source": [
    "## Now need to apply this to a 10 year scenario in which costs and energy needs are forecast with an increase rate"
   ]
  },
  {
   "cell_type": "code",
   "execution_count": null,
   "metadata": {
    "collapsed": true
   },
   "outputs": [],
   "source": []
  }
 ],
 "metadata": {
  "kernelspec": {
   "display_name": "Python 2",
   "language": "python",
   "name": "python2"
  },
  "language_info": {
   "codemirror_mode": {
    "name": "ipython",
    "version": 2
   },
   "file_extension": ".py",
   "mimetype": "text/x-python",
   "name": "python",
   "nbconvert_exporter": "python",
   "pygments_lexer": "ipython2",
   "version": "2.7.13"
  }
 },
 "nbformat": 4,
 "nbformat_minor": 2
}
